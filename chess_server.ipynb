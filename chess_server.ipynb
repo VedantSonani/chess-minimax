{
  "cells": [
    {
      "cell_type": "code",
      "execution_count": 1,
      "metadata": {
        "colab": {
          "base_uri": "https://localhost:8080/"
        },
        "id": "TSsZfpHI0XCG",
        "outputId": "98d59ba6-ae6b-4d76-a74d-dab0a993fce2"
      },
      "outputs": [
        {
          "output_type": "stream",
          "name": "stdout",
          "text": [
            "--2025-06-22 09:34:37--  https://bin.equinox.io/c/bNyj1mQVY4c/ngrok-v3-stable-linux-amd64.zip\n",
            "Resolving bin.equinox.io (bin.equinox.io)... 99.83.220.108, 35.71.179.82, 13.248.244.96, ...\n",
            "Connecting to bin.equinox.io (bin.equinox.io)|99.83.220.108|:443... connected.\n",
            "HTTP request sent, awaiting response... 200 OK\n",
            "Length: 9638576 (9.2M) [application/octet-stream]\n",
            "Saving to: ‘ngrok.zip’\n",
            "\n",
            "ngrok.zip           100%[===================>]   9.19M  11.0MB/s    in 0.8s    \n",
            "\n",
            "2025-06-22 09:34:39 (11.0 MB/s) - ‘ngrok.zip’ saved [9638576/9638576]\n",
            "\n",
            "Archive:  ngrok.zip\n",
            "  inflating: ngrok                   \n",
            "chmod: cannot access 'ngrok.': No such file or directory\n",
            "/bin/bash: line 1: sample_data/: Is a directory\n",
            "Collecting pyngrok\n",
            "  Downloading pyngrok-7.2.11-py3-none-any.whl.metadata (9.4 kB)\n",
            "Requirement already satisfied: PyYAML>=5.1 in /usr/local/lib/python3.11/dist-packages (from pyngrok) (6.0.2)\n",
            "Downloading pyngrok-7.2.11-py3-none-any.whl (25 kB)\n",
            "Installing collected packages: pyngrok\n",
            "Successfully installed pyngrok-7.2.11\n",
            "Collecting chess\n",
            "  Downloading chess-1.11.2.tar.gz (6.1 MB)\n",
            "\u001b[2K     \u001b[90m━━━━━━━━━━━━━━━━━━━━━━━━━━━━━━━━━━━━━━━━\u001b[0m \u001b[32m6.1/6.1 MB\u001b[0m \u001b[31m57.6 MB/s\u001b[0m eta \u001b[36m0:00:00\u001b[0m\n",
            "\u001b[?25h  Preparing metadata (setup.py) ... \u001b[?25l\u001b[?25hdone\n",
            "Building wheels for collected packages: chess\n",
            "  Building wheel for chess (setup.py) ... \u001b[?25l\u001b[?25hdone\n",
            "  Created wheel for chess: filename=chess-1.11.2-py3-none-any.whl size=147775 sha256=f2427b037450ea528a401d13b17e0dc0433f00bc2aa499e13f55ec68f229c257\n",
            "  Stored in directory: /root/.cache/pip/wheels/fb/5d/5c/59a62d8a695285e59ec9c1f66add6f8a9ac4152499a2be0113\n",
            "Successfully built chess\n",
            "Installing collected packages: chess\n",
            "Successfully installed chess-1.11.2\n"
          ]
        }
      ],
      "source": [
        "!wget -O ngrok.zip https://bin.equinox.io/c/bNyj1mQVY4c/ngrok-v3-stable-linux-amd64.zip\n",
        "!unzip ngrok.zip\n",
        "!chmod +x ngrok.;*/\n",
        "!pip install pyngrok\n",
        "!pip install chess"
      ]
    },
    {
      "cell_type": "code",
      "execution_count": 2,
      "metadata": {
        "colab": {
          "base_uri": "https://localhost:8080/"
        },
        "id": "_OGtUrC622AJ",
        "outputId": "7f5b6376-4b2c-42dc-aed7-5bd86488c312"
      },
      "outputs": [
        {
          "output_type": "stream",
          "name": "stdout",
          "text": [
            "Authtoken saved to configuration file: /root/.config/ngrok/ngrok.yml\n"
          ]
        }
      ],
      "source": [
        "!./ngrok authtoken 2uFxz9fixy7Pf18kdVMF605w399_27M5Ysckn4fGHrdKd1RYp\n"
      ]
    },
    {
      "cell_type": "code",
      "execution_count": null,
      "metadata": {
        "colab": {
          "background_save": true,
          "base_uri": "https://localhost:8080/"
        },
        "id": "bt8WVsxv3FSq",
        "outputId": "06b2748c-fd4f-4839-aa31-665119a84f73"
      },
      "outputs": [
        {
          "output_type": "stream",
          "name": "stdout",
          "text": [
            "ngrok tunnel created: https://6261-34-125-84-96.ngrok-free.app\n",
            " * Serving Flask app '__main__'\n",
            " * Debug mode: off\n"
          ]
        },
        {
          "output_type": "stream",
          "name": "stderr",
          "text": [
            "INFO:werkzeug:\u001b[31m\u001b[1mWARNING: This is a development server. Do not use it in a production deployment. Use a production WSGI server instead.\u001b[0m\n",
            " * Running on http://127.0.0.1:5000\n",
            "INFO:werkzeug:\u001b[33mPress CTRL+C to quit\u001b[0m\n",
            "WARNING:pyngrok.process.ngrok:t=2025-06-22T09:35:12+0000 lvl=warn msg=\"failed to check for update\" obj=updater err=\"Post \\\"https://update.equinox.io/check\\\": context deadline exceeded\"\n",
            "INFO:werkzeug:127.0.0.1 - - [22/Jun/2025 09:36:50] \"POST /best_move HTTP/1.1\" 200 -\n"
          ]
        }
      ],
      "source": [
        "import os\n",
        "import chess\n",
        "import chess.engine\n",
        "import requests\n",
        "from flask import Flask, request, jsonify\n",
        "from pyngrok import ngrok  # Install with `pip install pyngrok`\n",
        "\n",
        "app = Flask(__name__)\n",
        "\n",
        "# Piece values for evaluation\n",
        "piece_values = {\n",
        "    chess.PAWN: 100, chess.KNIGHT: 320, chess.BISHOP: 330,\n",
        "    chess.ROOK: 500, chess.QUEEN: 900, chess.KING: 20000\n",
        "}\n",
        "\n",
        "def evaluate_board(board):\n",
        "    score = 0\n",
        "    for square in chess.SQUARES:\n",
        "        piece = board.piece_at(square)\n",
        "        if piece:\n",
        "            value = piece_values.get(piece.piece_type, 0)\n",
        "            score += value if piece.color == chess.WHITE else -value\n",
        "    return score\n",
        "\n",
        "def alpha_beta_pruning(board, depth, alpha, beta, maximizing_player):\n",
        "    if depth == 0 or board.is_game_over():\n",
        "        return evaluate_board(board)\n",
        "\n",
        "    legal_moves = list(board.legal_moves)\n",
        "    if maximizing_player:\n",
        "        max_eval = float('-inf')\n",
        "        for move in legal_moves:\n",
        "            board.push(move)\n",
        "            eval = alpha_beta_pruning(board, depth - 1, alpha, beta, False)\n",
        "            board.pop()\n",
        "            max_eval = max(max_eval, eval)\n",
        "            alpha = max(alpha, eval)\n",
        "            if beta <= alpha:\n",
        "                break  # Beta cut-off\n",
        "        return max_eval\n",
        "    else:\n",
        "        min_eval = float('inf')\n",
        "        for move in legal_moves:\n",
        "            board.push(move)\n",
        "            eval = alpha_beta_pruning(board, depth - 1, alpha, beta, True)\n",
        "            board.pop()\n",
        "            min_eval = min(min_eval, eval)\n",
        "            beta = min(beta, eval)\n",
        "            if beta <= alpha:\n",
        "                break  # Alpha cut-off\n",
        "        return min_eval\n",
        "\n",
        "# @app.route(\"/best_move\", methods=[\"POST\"])\n",
        "def find_best_move(fen, depth=5):\n",
        "    board = chess.Board(fen)\n",
        "    best_move = None\n",
        "    best_value = float('-inf') if board.turn == chess.WHITE else float('inf')\n",
        "\n",
        "    for move in board.legal_moves:\n",
        "        board.push(move)\n",
        "        board_value = alpha_beta_pruning(board, depth - 1, float('-inf'), float('inf'), not board.turn)\n",
        "        board.pop()\n",
        "\n",
        "        if (board.turn == chess.WHITE and board_value > best_value) or (board.turn == chess.BLACK and board_value < best_value):\n",
        "            best_value = board_value\n",
        "            best_move = move  # <-- This is now a chess.Move object\n",
        "\n",
        "    return best_move  # <-- Return a Move object instead of a string\n",
        "\n",
        "\n",
        "@app.route('/best_move', methods=['POST'])\n",
        "def get_best_move():\n",
        "    data = request.get_json()\n",
        "    fen = data.get('fen')\n",
        "    depth = data.get('depth', 5)\n",
        "\n",
        "    if not fen:\n",
        "        return jsonify({\"error\": \"FEN string is required\"}), 400\n",
        "\n",
        "    best_move = find_best_move(fen, depth)\n",
        "    # return jsonify({\"best_move\": best_move})\n",
        "    return jsonify({\"best_move\": best_move.uci() if best_move else None})\n",
        "\n",
        "def run_flask():\n",
        "    app.run(port=5000, use_reloader=False)  # Run Flask on port 5000\n",
        "\n",
        "\n",
        "# Start ngrok programmatically\n",
        "try:\n",
        "    public_url = ngrok.connect(5000).public_url\n",
        "    print(f\"ngrok tunnel created: {public_url}\")\n",
        "except Exception as e:\n",
        "    print(f\"Error starting ngrok: {e}\")\n",
        "\n",
        "run_flask()\n",
        "# app.stop()"
      ]
    }
  ],
  "metadata": {
    "colab": {
      "provenance": []
    },
    "kernelspec": {
      "display_name": "Python 3",
      "name": "python3"
    },
    "language_info": {
      "name": "python"
    }
  },
  "nbformat": 4,
  "nbformat_minor": 0
}